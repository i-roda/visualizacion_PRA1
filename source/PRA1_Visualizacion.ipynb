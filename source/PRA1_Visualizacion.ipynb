{
 "cells": [
  {
   "cell_type": "markdown",
   "id": "11bae7a2",
   "metadata": {},
   "source": [
    "# Práctica (parte I) - Selección del conjunto de datos"
   ]
  },
  {
   "cell_type": "code",
   "execution_count": 1,
   "id": "8597c916",
   "metadata": {},
   "outputs": [],
   "source": [
    "# Importamos las librerías necesarias\n",
    "import pandas as pd\n",
    "import numpy as np "
   ]
  },
  {
   "cell_type": "markdown",
   "id": "840b7f1f",
   "metadata": {},
   "source": [
    "# Creación del dataset final"
   ]
  },
  {
   "cell_type": "code",
   "execution_count": 2,
   "id": "ff6f898b",
   "metadata": {},
   "outputs": [],
   "source": [
    "# Cargamos los datos de los tres archivos csv\n",
    "data_energy = pd.read_csv('./data/owid-energy-data.csv')\n",
    "data_co2 = pd.read_csv('./data/owid-co2-data.csv')\n",
    "data_continents = pd.read_csv('./data/continents-according-to-our-world-in-data.csv')"
   ]
  },
  {
   "cell_type": "code",
   "execution_count": 3,
   "id": "3675f648",
   "metadata": {},
   "outputs": [],
   "source": [
    "# Añadimos el continente correspondiente a cada país de data_co2\n",
    "merged_data = pd.merge(data_co2, data_continents[['Code', 'Continent']], left_on='iso_code', right_on='Code', how='left')\n",
    "# Eliminamos la columna 'Code'\n",
    "merged_data = merged_data.drop(columns=['Code'])\n",
    "# Renombramos la columna 'Continent' a 'continent'\n",
    "merged_data = merged_data.rename(columns={'Continent': 'continent'}) "
   ]
  },
  {
   "cell_type": "code",
   "execution_count": 4,
   "id": "aa85388a",
   "metadata": {},
   "outputs": [],
   "source": [
    "# Movemos la columna 'continent' a la segunda posición del dataframe\n",
    "columns = list(merged_data.columns)\n",
    "columns.remove('continent')\n",
    "columns.insert(1, 'continent')\n",
    "merged_data = merged_data[columns]"
   ]
  },
  {
   "cell_type": "code",
   "execution_count": 5,
   "id": "90caadcf",
   "metadata": {},
   "outputs": [],
   "source": [
    "# Combinamos el dataframe anterior con el dataframe data_energy\n",
    "# Eliminamos de data_energy las columnas que no vamos a incluir\n",
    "columns_to_exclude = ['energy_per_capita', 'energy_per_gdp', 'gdp', 'iso_code', 'population', 'primary_energy_consumption']\n",
    "data_energy = data_energy.drop(columns=columns_to_exclude)\n",
    "\n",
    "# Combinamos los dos los dataframes\n",
    "merged_data = pd.merge(merged_data, data_energy, on=['country', 'year'], how='left')"
   ]
  },
  {
   "cell_type": "code",
   "execution_count": 6,
   "id": "047c3993",
   "metadata": {},
   "outputs": [],
   "source": [
    "# Eliminamos los registros sin 'iso_code'\n",
    "merged_data = merged_data.dropna(subset=['iso_code'])"
   ]
  },
  {
   "cell_type": "code",
   "execution_count": 7,
   "id": "97952c3c",
   "metadata": {},
   "outputs": [],
   "source": [
    "# Creamos un nuevo archivo csv con el dataset final\n",
    "merged_data.to_csv('pra1_visualizacion.csv', index=False)"
   ]
  },
  {
   "cell_type": "markdown",
   "id": "293b7a38",
   "metadata": {},
   "source": [
    "# Creación del codebook"
   ]
  },
  {
   "cell_type": "code",
   "execution_count": 8,
   "id": "a2b684d0",
   "metadata": {},
   "outputs": [],
   "source": [
    "# Creamos un nuevo codebook para el nuevo csv\n",
    "# Cargamos los datos\n",
    "codebook_energy = pd.read_csv('./data/owid-energy-codebook.csv')\n",
    "codebook_co2 = pd.read_csv('./data/owid-co2-codebook.csv')\n",
    "\n",
    "# Concatenamos los dataframes\n",
    "codebook = pd.concat([codebook_energy, codebook_co2], ignore_index=True)\n",
    "\n",
    "# Eliminamos las filas duplicadas\n",
    "codebook = codebook.drop_duplicates()"
   ]
  },
  {
   "cell_type": "code",
   "execution_count": 9,
   "id": "c824f9d5",
   "metadata": {},
   "outputs": [],
   "source": [
    "# Añadimos la información de la variable 'continent' \n",
    "new_row = pd.DataFrame({\n",
    "    'column': ['continent'],\n",
    "    'description': ['Continent - Continent corresponding to each country'],\n",
    "    'unit': [np.nan],  \n",
    "    'source': ['Our World in Data - Regions (2022)'] \n",
    "})\n",
    "\n",
    "part1 = codebook.iloc[:1]  \n",
    "part2 = codebook.iloc[1:]  \n",
    "\n",
    "codebook = pd.concat([part1, new_row, part2], ignore_index=True)"
   ]
  },
  {
   "cell_type": "code",
   "execution_count": 10,
   "id": "2b931f8c",
   "metadata": {},
   "outputs": [],
   "source": [
    "# Creamos un nuevo archivo csv con el codebook final\n",
    "codebook.to_csv('pra1_visualizacion_codebook.csv', index=False)"
   ]
  }
 ],
 "metadata": {
  "kernelspec": {
   "display_name": "Python 3 (ipykernel)",
   "language": "python",
   "name": "python3"
  },
  "language_info": {
   "codemirror_mode": {
    "name": "ipython",
    "version": 3
   },
   "file_extension": ".py",
   "mimetype": "text/x-python",
   "name": "python",
   "nbconvert_exporter": "python",
   "pygments_lexer": "ipython3",
   "version": "3.9.7"
  }
 },
 "nbformat": 4,
 "nbformat_minor": 5
}
